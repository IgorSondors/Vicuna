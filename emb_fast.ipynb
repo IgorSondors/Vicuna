{
 "cells": [
  {
   "cell_type": "code",
   "execution_count": 1,
   "metadata": {},
   "outputs": [],
   "source": [
    "import time\n",
    "import torch\n",
    "import numpy as np\n",
    "import pandas as pd\n",
    "from transformers import AutoTokenizer, AutoModelForCausalLM\n",
    "\n",
    "def load_model(model_name, device, num_gpus, load_8bit=False):\n",
    "    if device == \"cuda\":\n",
    "        kwargs = {\"torch_dtype\": torch.float16}\n",
    "        if load_8bit:\n",
    "            if num_gpus != \"auto\" and int(num_gpus) != 1:\n",
    "                print(\"8-bit weights are not supported on multiple GPUs. Revert to use one GPU.\")\n",
    "            kwargs.update({\"load_in_8bit\": True, \"device_map\": \"auto\"})\n",
    "        else:\n",
    "            if num_gpus == \"auto\":\n",
    "                kwargs[\"device_map\"] = \"auto\"\n",
    "            else:\n",
    "                num_gpus = int(num_gpus)\n",
    "                if num_gpus != 1:\n",
    "                    kwargs.update({\n",
    "                        \"device_map\": \"auto\",\n",
    "                        \"max_memory\": {i: \"19GiB\" for i in range(num_gpus)},\n",
    "                    })\n",
    "    elif device == \"cpu\":\n",
    "        kwargs = {}\n",
    "    else:\n",
    "        raise ValueError(f\"Invalid device: {device}\")\n",
    "\n",
    "    tokenizer = AutoTokenizer.from_pretrained(model_name, use_fast = False)\n",
    "    model = AutoModelForCausalLM.from_pretrained(model_name, output_hidden_states=True,\n",
    "        low_cpu_mem_usage=True, **kwargs)\n",
    "\n",
    "    # calling model.cuda() mess up weights if loading 8-bit weights\n",
    "    if device == \"cuda\" and num_gpus == 1 and not load_8bit:\n",
    "        model.cuda()\n",
    "\n",
    "    return model, tokenizer\n",
    "\n",
    "@torch.inference_mode()\n",
    "def get_embeddings(model, tokenizer, prompt):\n",
    "    input_ids = tokenizer(prompt).input_ids\n",
    "    input_embeddings = model.get_input_embeddings()\n",
    "    embeddings = input_embeddings(torch.LongTensor([input_ids]).cuda())\n",
    "    mean = torch.mean(embeddings[0], 0).cuda().detach()\n",
    "    return mean\n",
    "\n",
    "def get_save_npy(model, tokenizer, src_csv, dst_fld, mode='name'):\n",
    "    print(mode, 'by vicuna')\n",
    "    df = pd.read_csv(src_csv, sep=';')\n",
    "    print('corpus len =', len(df))\n",
    "    corpus = df[mode]\n",
    "    print('encode corpus')\n",
    "    start_time = time.time()\n",
    "    for i in range(len(corpus)):\n",
    "        print(i)\n",
    "        one_emb = get_embeddings(model, tokenizer, corpus[i])\n",
    "        np.save(f'{dst_fld}/{i}_{mode}.npy', one_emb.cpu())\n",
    "    print('total time_spent = {}'.format(time.time() - start_time))\n",
    "    print('one emb time_spent = {}'.format((time.time() - start_time)/len(corpus)))"
   ]
  },
  {
   "cell_type": "code",
   "execution_count": 2,
   "metadata": {},
   "outputs": [
    {
     "data": {
      "application/vnd.jupyter.widget-view+json": {
       "model_id": "a23a3a2171704ff88c64d75b5edce382",
       "version_major": 2,
       "version_minor": 0
      },
      "text/plain": [
       "Loading checkpoint shards:   0%|          | 0/3 [00:00<?, ?it/s]"
      ]
     },
     "metadata": {},
     "output_type": "display_data"
    }
   ],
   "source": [
    "# model_name = \"/mnt/vdb1/vicuna_8bit\"\n",
    "# model_name = \"/mnt/vdb1/vicuna-13b-delta-v1.1\"\n",
    "model_name = \"/mnt/vdb1/ggml_vicuna_13b_8bit\"\n",
    "device = \"cuda\"\n",
    "num_gpus=1\n",
    "load_8bit = False\n",
    "model, tokenizer = load_model(model_name, device, num_gpus, load_8bit)"
   ]
  },
  {
   "cell_type": "code",
   "execution_count": 3,
   "metadata": {},
   "outputs": [],
   "source": [
    "from fastchat.model import get_conversation_template\n",
    "#from FastChat.fastchat.model import get_conversation_template\n",
    "\n",
    "def prompt(model, tokenizer, text):\n",
    "    ques_json = {\"question_id\": 1, \"text\": text}\n",
    "    model_id = \"0\"\n",
    "    idx = ques_json[\"question_id\"]\n",
    "    qs = ques_json[\"text\"]\n",
    "    conv = get_conversation_template(model_id)\n",
    "    conv.append_message(conv.roles[0], qs)\n",
    "    conv.append_message(conv.roles[1], None)\n",
    "    prompt = conv.get_prompt()\n",
    "    input_ids = tokenizer([prompt]).input_ids\n",
    "    output_ids = model.generate(\n",
    "        torch.as_tensor(input_ids).cuda(),\n",
    "        do_sample=True,\n",
    "        temperature=0.7,\n",
    "        max_new_tokens=20#1024,\n",
    "    )\n",
    "\n",
    "    output_ids = output_ids[0][len(input_ids[0]) :]\n",
    "    return tokenizer.decode(output_ids, skip_special_tokens=True).strip()"
   ]
  },
  {
   "cell_type": "code",
   "execution_count": 14,
   "metadata": {},
   "outputs": [
    {
     "name": "stdout",
     "output_type": "stream",
     "text": [
      "answer:\n",
      "Brand:Samsung\n",
      "Device:Galaxy Tab A7 Lite LTE 32Gb\n",
      "END_OF_ANSWER\n",
      "\n",
      "\n"
     ]
    }
   ],
   "source": [
    "# ques_json = {\"question_id\": 1, \"text\": \"How can I improve my time management skills?\", \"category\": \"generic\"}\n",
    "name = \"Планшет Samsung Galaxy Tab A7 Lite LTE 32GB Gray (SM-T225)\"\n",
    "#text = f\"Imagine that you are Named Entity Recognition neural network. Parse the information from the following tablet description '{name}' and based on that complete gaps from next statements: \\nBrand name:___\\nDevice:___\\nColor:___. \\nExample of answer:\\nBrand name: iPhone\\nDevice: iPad Pro Max\\nColor: Space Gray\"\n",
    "#text = f\"Imagine that you can only parse named entities from text, give the confidence score of your output as float within [0,1] and nothing else. Parse the information from the following tablet description '{name}' and based on that complete gaps from next statements: \\nBrand name:___\\nDevice:___\\nConfidence:___.\\nYour answer should have exactly the template I provided you and no more other words. Please double check your answer before you give me that.\"\n",
    "\n",
    "#conv = get_conversation_template(\"\")\n",
    "from fastchat.conversation import *\n",
    "tmpl=\"planshet_big\"\n",
    "conv = get_conv_template(tmpl)\n",
    "conv.append_message(conv.roles[0], name)\n",
    "conv.append_message(conv.roles[1], None)\n",
    "prompt = conv.get_prompt()\n",
    "input_ids = tokenizer([prompt]).input_ids\n",
    "output_ids = model.generate(\n",
    "    torch.as_tensor(input_ids).cuda(),\n",
    "    do_sample=True,\n",
    "    temperature=0.01,\n",
    "    max_new_tokens=30#1024,\n",
    ")\n",
    "#Galaxy Tab A7 Lite 32GB\n",
    "output_ids1 = output_ids[0][len(input_ids[0]) :]\n",
    "outputs = tokenizer.decode(output_ids1, skip_special_tokens=True).strip()\n",
    "#print(f'question:\\n{text}\\n\\n')\n",
    "print(f'answer:\\n{outputs}\\n\\n')"
   ]
  },
  {
   "cell_type": "code",
   "execution_count": null,
   "metadata": {},
   "outputs": [],
   "source": [
    "get_conv_template('planshet_big')"
   ]
  },
  {
   "cell_type": "code",
   "execution_count": null,
   "metadata": {},
   "outputs": [],
   "source": [
    "outputs"
   ]
  },
  {
   "cell_type": "code",
   "execution_count": null,
   "metadata": {},
   "outputs": [],
   "source": [
    "text = \"What is the confidence score of your last output?\"\n",
    "name=\"vicuna_v1.1\"\n",
    "conv = get_conversation_template(name)\n",
    "conv.append_message(conv.roles[0], text)\n",
    "conv.append_message(conv.roles[1], None)\n",
    "prompt = conv.get_prompt()\n",
    "input_ids = tokenizer([prompt]).input_ids\n",
    "output_ids = model.generate(\n",
    "    torch.as_tensor(input_ids).cuda(),\n",
    "    do_sample=True,\n",
    "    temperature=0.9,\n",
    "    max_new_tokens=20#1024,\n",
    ")\n",
    "\n",
    "output_ids1 = output_ids[0][len(input_ids[0]) :]\n",
    "outputs = tokenizer.decode(output_ids1, skip_special_tokens=True).strip()\n",
    "print(f'question:\\n{text}\\n\\n')\n",
    "print(f'answer:\\n{outputs}\\n\\n')"
   ]
  },
  {
   "cell_type": "code",
   "execution_count": null,
   "metadata": {},
   "outputs": [],
   "source": [
    "conv"
   ]
  },
  {
   "cell_type": "code",
   "execution_count": null,
   "metadata": {},
   "outputs": [],
   "source": [
    "#dir(model.generate)"
   ]
  },
  {
   "cell_type": "code",
   "execution_count": null,
   "metadata": {},
   "outputs": [],
   "source": [
    "(get_conversation_template(''))"
   ]
  },
  {
   "cell_type": "code",
   "execution_count": null,
   "metadata": {},
   "outputs": [],
   "source": [
    "conv"
   ]
  },
  {
   "cell_type": "code",
   "execution_count": null,
   "metadata": {},
   "outputs": [],
   "source": [
    "\n",
    "\n"
   ]
  },
  {
   "cell_type": "code",
   "execution_count": null,
   "metadata": {},
   "outputs": [],
   "source": [
    "x = output_ids[0][len(input_ids[0]) :]\n",
    "x"
   ]
  },
  {
   "cell_type": "code",
   "execution_count": null,
   "metadata": {},
   "outputs": [],
   "source": [
    "tokenizer.decode(output_ids[0], skip_special_tokens=True).strip()"
   ]
  },
  {
   "cell_type": "code",
   "execution_count": null,
   "metadata": {},
   "outputs": [],
   "source": [
    "tokenizer.decode(output_ids[0], skip_special_tokens=True).strip()"
   ]
  },
  {
   "cell_type": "code",
   "execution_count": null,
   "metadata": {},
   "outputs": [],
   "source": [
    "output_ids[0]"
   ]
  },
  {
   "cell_type": "code",
   "execution_count": null,
   "metadata": {},
   "outputs": [],
   "source": [
    "output_ids1 = output_ids[0][len(input_ids[0]) :]\n",
    "outputs = tokenizer.decode(output_ids1, skip_special_tokens=True).strip()\n",
    "print(outputs)"
   ]
  },
  {
   "cell_type": "code",
   "execution_count": null,
   "metadata": {},
   "outputs": [],
   "source": []
  },
  {
   "cell_type": "code",
   "execution_count": null,
   "metadata": {},
   "outputs": [],
   "source": [
    "outputs"
   ]
  },
  {
   "cell_type": "code",
   "execution_count": null,
   "metadata": {},
   "outputs": [],
   "source": [
    "dir(model)"
   ]
  },
  {
   "cell_type": "code",
   "execution_count": null,
   "metadata": {},
   "outputs": [],
   "source": [
    "# dst_fld = '/mnt/vdb1/embeds_ggml_vicuna_13b_8bit'\n",
    "# src_csv = '/mnt/vdb1/14_categories_balanced.csv'\n",
    "\n",
    "# get_save_npy(model, tokenizer, src_csv, dst_fld, 'name')\n",
    "# get_save_npy(model, src_csv, dst_fld, 'external_brand')\n",
    "# get_save_npy(model, src_csv, dst_fld, 'external_type')\n",
    "# get_save_npy(model, src_csv, dst_fld, 'attrs')\n",
    "# get_save_npy(model, src_csv, dst_fld, 'description')"
   ]
  }
 ],
 "metadata": {
  "kernelspec": {
   "display_name": "fastchat",
   "language": "python",
   "name": "python3"
  },
  "language_info": {
   "codemirror_mode": {
    "name": "ipython",
    "version": 3
   },
   "file_extension": ".py",
   "mimetype": "text/x-python",
   "name": "python",
   "nbconvert_exporter": "python",
   "pygments_lexer": "ipython3",
   "version": "3.9.16"
  },
  "orig_nbformat": 4
 },
 "nbformat": 4,
 "nbformat_minor": 2
}
